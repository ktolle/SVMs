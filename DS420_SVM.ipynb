{
 "cells": [
  {
   "cell_type": "code",
   "execution_count": null,
   "metadata": {
    "collapsed": true
   },
   "outputs": [],
   "source": [
    "import numpy as np\n",
    "import random\n",
    "import matplotlib.pyplot as plt\n",
    "\n",
    "from sklearn import svm, metrics\n",
    "from sklearn.datasets import load_iris\n",
    "from sklearn.metrics import classification_report\n",
    "\n",
    "(data, target) = load_iris(return_X_y =True)\n",
    "\n",
    "cost = .9 # penalty parameter of the error term\n",
    "gamma = 5"
   ]
  },
  {
   "cell_type": "code",
   "execution_count": null,
   "metadata": {},
   "outputs": [],
   "source": [
    "clf = svm.LinearSVC(C=cost).fit(data, target)\n",
    "clf.predict(data)\n",
    "print(\"LinearSVC\")\n",
    "print(classification_report(clf.predict(data), target))\n",
    "\n",
    "for k in ('linear', 'rbf', 'poly'):\n",
    "    clf = svm.SVC(gamma=gamma, kernel=k, C=cost).fit(data, target)\n",
    "    clf.predict(data)\n",
    "    print(k)\n",
    "    print(classification_report(clf.predict(data), target))"
   ]
  },
  {
   "cell_type": "markdown",
   "metadata": {},
   "source": [
    "## Plot Different Kernels with 2 Features"
   ]
  },
  {
   "cell_type": "code",
   "execution_count": null,
   "metadata": {},
   "outputs": [],
   "source": [
    "# To make plotting easier, let's just use two features.\n",
    "X = data[:, 0:2]\n",
    "Y = target\n",
    "h = .5  # step size in the mesh\n",
    "cost = 1.0  # update the cost\n",
    "#gamma = 10 # update the gamma \n",
    "\n",
    "# testing other kernels on unscaled data (for plotting tht support vectors)\n",
    "lin_svc = svm.LinearSVC(C=cost).fit(X, Y)\n",
    "svc = svm.SVC(kernel='linear').fit(X, Y)\n",
    "rbf_svc = svm.SVC(kernel='rbf').fit(X, Y)\n",
    "poly_svc = svm.SVC(kernel='poly', degree=3).fit(X, Y)\n",
    "\n",
    "# create a mesh to plot in\n",
    "x_min, x_max = X[:, 0].min() - 1, X[:, 0].max() + 1\n",
    "y_min, y_max = X[:, 1].min() - 1, X[:, 1].max() + 1\n",
    "xx, yy = np.meshgrid(np.arange(x_min, x_max, h),\n",
    "                     np.arange(y_min, y_max, h))\n",
    "\n",
    "# title for the plots\n",
    "titles = ['LinearSVC (linear kernel)',\n",
    "          'SVC with linear kernel',\n",
    "          'SVC with RBF kernel',\n",
    "          'SVC with polynomial kernel']\n",
    "\n",
    "for i, kernel in enumerate((lin_svc, rbf_svc, poly_svc, svc)):\n",
    "    # Plot the decision boundary. For that, we will assign a color to each\n",
    "    # point in the mesh [x_min, m_max]x[y_min, y_max].\n",
    "    plt.subplot(2, 2, i + 1)\n",
    "    Z = kernel.predict(np.c_[xx.ravel(), yy.ravel()])\n",
    "    \n",
    "    # Put the result into a color plot\n",
    "    Z = Z.reshape(xx.shape)\n",
    "    plt.contourf(xx, yy, Z)\n",
    "    plt.axis('off')\n",
    "    \n",
    "    # Plot also the training points\n",
    "    plt.scatter(X[:, 0], X[:, 1], c=Y, cmap=plt.cm.Paired)\n",
    "    plt.title(titles[i])\n",
    "\n",
    "plt.show()"
   ]
  },
  {
   "cell_type": "code",
   "execution_count": null,
   "metadata": {},
   "outputs": [],
   "source": [
    "X1 = data[:, 1:3]\n",
    "Y1 = target\n",
    "\n",
    "# testing other kernels on unscaled data (for plotting tht support vectors)\n",
    "lin_svc1 = svm.LinearSVC().fit(X1, Y1)\n",
    "svc1 = svm.SVC(kernel='linear').fit(X1, Y1)\n",
    "rbf_svc1 = svm.SVC(kernel='rbf').fit(X1, Y1)\n",
    "poly_svc1 = svm.SVC(kernel='poly', degree=3).fit(X1, Y1)\n",
    "\n",
    "x1_min, x1_max = X1[:, 0].min() - 1, X1[:, 0].max() + 1\n",
    "y1_min, y1_max = X1[:, 1].min() - 1, X1[:, 1].max() + 1\n",
    "xx1, yy1 = np.meshgrid(np.arange(x1_min, x1_max, h),\n",
    "                     np.arange(y1_min, y1_max, h))\n",
    "\n",
    "for i, kernel1 in enumerate((lin_svc1, rbf_svc1, poly_svc1, svc1)):\n",
    "    plt.subplot(2, 2, i + 1)\n",
    "    Z1 = kernel1.predict(np.c_[xx1.ravel(), yy1.ravel()])\n",
    "    Z1 = Z1.reshape(xx1.shape)\n",
    "    plt.contourf(xx1, yy1, Z1)\n",
    "    plt.axis('off')\n",
    "    plt.scatter(X1[:, 0], X1[:, 1], c=Y1, cmap=plt.cm.Paired)\n",
    "    plt.title(titles[i])\n",
    "\n",
    "plt.show()"
   ]
  },
  {
   "cell_type": "code",
   "execution_count": null,
   "metadata": {},
   "outputs": [],
   "source": [
    "X2 = data[:, 2:4]\n",
    "Y2 = target\n",
    "\n",
    "# testing other kernels on unscaled data (for plotting tht support vectors)\n",
    "lin_svc2 = svm.LinearSVC().fit(X2, Y2)\n",
    "svc2 = svm.SVC(kernel='linear').fit(X2, Y2)\n",
    "rbf_svc2 = svm.SVC(kernel='rbf').fit(X2, Y2)\n",
    "poly_svc2 = svm.SVC(kernel='poly').fit(X2, Y2)\n",
    "\n",
    "x2_min, x2_max = X2[:, 0].min() - 1, X2[:, 0].max() + 1\n",
    "y2_min, y2_max = X2[:, 1].min() - 1, X2[:, 1].max() + 1\n",
    "xx2, yy2 = np.meshgrid(np.arange(x2_min, x2_max, h),\n",
    "                     np.arange(y2_min, y2_max, h))\n",
    "\n",
    "for i, kernel2 in enumerate((lin_svc2, rbf_svc2, poly_svc2, svc2)):\n",
    "    plt.subplot(2, 2, i + 1)\n",
    "    Z2 = kernel2.predict(np.c_[xx2.ravel(), yy2.ravel()])\n",
    "    Z2 = Z2.reshape(xx2.shape)\n",
    "    plt.contourf(xx2, yy2, Z2)\n",
    "    plt.axis('off')\n",
    "    plt.scatter(X2[:, 0], X2[:, 1], c=Y2, cmap=plt.cm.Paired)\n",
    "    plt.title(titles[i])\n",
    "\n",
    "plt.show()"
   ]
  },
  {
   "cell_type": "code",
   "execution_count": null,
   "metadata": {
    "collapsed": true
   },
   "outputs": [],
   "source": []
  }
 ],
 "metadata": {
  "kernelspec": {
   "display_name": "Python 3",
   "language": "python",
   "name": "python3"
  },
  "language_info": {
   "codemirror_mode": {
    "name": "ipython",
    "version": 3
   },
   "file_extension": ".py",
   "mimetype": "text/x-python",
   "name": "python",
   "nbconvert_exporter": "python",
   "pygments_lexer": "ipython3",
   "version": "3.6.2"
  }
 },
 "nbformat": 4,
 "nbformat_minor": 2
}
